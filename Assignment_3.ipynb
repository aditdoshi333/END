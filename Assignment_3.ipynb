{
  "nbformat": 4,
  "nbformat_minor": 0,
  "metadata": {
    "colab": {
      "name": "Assignment_3.ipynb",
      "provenance": [],
      "collapsed_sections": [
        "mMskPGQN8G4y",
        "OllUVFIdEuT2",
        "SAR0fdAkI7wh",
        "ZndyEcdKJ78G",
        "7xLyqbmrNcaM"
      ],
      "toc_visible": true
    },
    "kernelspec": {
      "name": "python3",
      "display_name": "Python 3"
    }
  },
  "cells": [
    {
      "cell_type": "code",
      "metadata": {
        "id": "HVUbk_wvGqEO"
      },
      "source": [
        "import math\n",
        "import random\n",
        "import string\n",
        "\n"
      ],
      "execution_count": null,
      "outputs": []
    },
    {
      "cell_type": "markdown",
      "metadata": {
        "id": "mMskPGQN8G4y"
      },
      "source": [
        "# Que 1\n",
        "\n",
        "Write a function using only list filter lambda that can tell whether a number is a Fibonacci number or not. You can use a pre-calculated list/dict to store fab numbers till 10000 PTS:100"
      ]
    },
    {
      "cell_type": "code",
      "metadata": {
        "id": "9vJdxI8B8C9b",
        "outputId": "57f127e9-42f4-4b24-fe61-0d5875101144",
        "colab": {
          "base_uri": "https://localhost:8080/"
        }
      },
      "source": [
        "def Fibonacci(n):\n",
        "    f0, f1 = 1, 1\n",
        "    for _ in range(n):\n",
        "        yield f0\n",
        "        f0, f1 = f1, f0+f1\n",
        "\n",
        "fibs = list(Fibonacci(10000))\n",
        "check= lambda x: True if x in fibs else False\n",
        "print(check(int(input(\"Please enter to number to check it is fibonacci or not: \"))))\n"
      ],
      "execution_count": null,
      "outputs": [
        {
          "output_type": "stream",
          "text": [
            "Please enter to number to check it is fibonacci or not: 10\n",
            "False\n"
          ],
          "name": "stdout"
        }
      ]
    },
    {
      "cell_type": "markdown",
      "metadata": {
        "id": "OllUVFIdEuT2"
      },
      "source": [
        "# Que 2\n",
        "Using list comprehension (and zip/lambda/etc if required) write five different expressions that: PTS:100\n"
      ]
    },
    {
      "cell_type": "markdown",
      "metadata": {
        "id": "feu6YasDbRGC"
      },
      "source": [
        "* Add 2 iterables a and b such that a is even and b is odd"
      ]
    },
    {
      "cell_type": "code",
      "metadata": {
        "id": "PzbxQ_CQWYeS",
        "outputId": "cf37eb25-b96a-4c22-ede3-32ee4aa134a6",
        "colab": {
          "base_uri": "https://localhost:8080/"
        }
      },
      "source": [
        "a=[ x for x in range(100) if x%2==0 ]\n",
        "b=[ x for x in range(100) if x%2!=0 ]\n",
        "sum_ab= map(lambda x,y: x+y, a, b)\n",
        "print(list(sum_ab))"
      ],
      "execution_count": null,
      "outputs": [
        {
          "output_type": "stream",
          "text": [
            "[1, 5, 9, 13, 17, 21, 25, 29, 33, 37, 41, 45, 49, 53, 57, 61, 65, 69, 73, 77, 81, 85, 89, 93, 97, 101, 105, 109, 113, 117, 121, 125, 129, 133, 137, 141, 145, 149, 153, 157, 161, 165, 169, 173, 177, 181, 185, 189, 193, 197]\n"
          ],
          "name": "stdout"
        }
      ]
    },
    {
      "cell_type": "markdown",
      "metadata": {
        "id": "yE9_5T2fbRUl"
      },
      "source": [
        "* Strips every vowel from a string provided (tsai>>t s)\n"
      ]
    },
    {
      "cell_type": "code",
      "metadata": {
        "id": "SEdViKTsYXJo",
        "outputId": "9e360453-7356-46ef-fe5e-306c7d1830d6",
        "colab": {
          "base_uri": "https://localhost:8080/"
        }
      },
      "source": [
        "vowels= list(\"aeiouAEIOU\")\n",
        "sentence= input(\"Please enter the string: \")\n",
        "ans= [character for character in sentence if character not in vowels]\n",
        "print(\" \".join(ans))"
      ],
      "execution_count": null,
      "outputs": [
        {
          "output_type": "stream",
          "text": [
            "Please enter the string: tsai\n",
            "t s\n"
          ],
          "name": "stdout"
        }
      ]
    },
    {
      "cell_type": "markdown",
      "metadata": {
        "id": "GfYP_Vt_dtQw"
      },
      "source": [
        "* Acts like a ReLU function for a 1D array\n"
      ]
    },
    {
      "cell_type": "code",
      "metadata": {
        "id": "dPcuLjmIbpJy",
        "outputId": "3a9e4f47-9ad7-4d4c-d22c-d0445cde4f58",
        "colab": {
          "base_uri": "https://localhost:8080/"
        }
      },
      "source": [
        "lst = [int(item) for item in input(\"Enter the list items : \").split()] \n",
        "  \n",
        "ans=map(lambda x: x if x>0 else 0, lst)\n",
        "print(\"Relu of 1D array \",list(ans))\n"
      ],
      "execution_count": null,
      "outputs": [
        {
          "output_type": "stream",
          "text": [
            "Enter the list items : 10 -5 100 200 -500\n",
            "Relu of 1D array  [10, 0, 100, 200, 0]\n"
          ],
          "name": "stdout"
        }
      ]
    },
    {
      "cell_type": "markdown",
      "metadata": {
        "id": "4zOrY9XZeCAW"
      },
      "source": [
        "* Acts like a sigmoid function for a 1D array\n"
      ]
    },
    {
      "cell_type": "code",
      "metadata": {
        "id": "ZoGtTa3reBsU",
        "outputId": "2a7a1572-2091-41ce-efff-4f3222853f40",
        "colab": {
          "base_uri": "https://localhost:8080/"
        }
      },
      "source": [
        "lst = [int(item) for item in input(\"Enter the list items : \").split()] \n",
        "  \n",
        "ans=map(lambda x: 1 / (1 + math.exp(-x)) , lst)\n",
        "print(\"Sigmoid of 1D array \",list(ans))\n"
      ],
      "execution_count": null,
      "outputs": [
        {
          "output_type": "stream",
          "text": [
            "Enter the list items : 10 5 0\n",
            "Sigmoid of 1D array  [0.9999546021312976, 0.9933071490757153, 0.5]\n"
          ],
          "name": "stdout"
        }
      ]
    },
    {
      "cell_type": "markdown",
      "metadata": {
        "id": "SoXjIlntm4iL"
      },
      "source": [
        "* Takes a small character string and shifts all characters by 5 (handle boundary conditions) tsai>>yxfn"
      ]
    },
    {
      "cell_type": "code",
      "metadata": {
        "id": "i4ylTjZae7zg",
        "outputId": "e075a23e-2b43-4c4c-fd9e-7e810282046e",
        "colab": {
          "base_uri": "https://localhost:8080/"
        }
      },
      "source": [
        "inpt= input(\"Enter the string :\")\n",
        "def transform(x):\n",
        "  temp=ord(x)\n",
        "  if temp >= 65 and temp<=90:\n",
        "    if temp+5>90:\n",
        "      return chr((temp+5)%90+65)\n",
        "    else:\n",
        "      return chr(temp+5)\n",
        "  elif temp >= 97 and temp<=122:\n",
        "    if temp+5 >122:\n",
        "      return chr((temp+5)%122 +97)\n",
        "    else:\n",
        "      return chr(temp+5)  \n",
        "\n",
        "ans= map(transform, inpt)\n",
        "print(\"Final ans after shifting:\",''.join(list(ans)))"
      ],
      "execution_count": null,
      "outputs": [
        {
          "output_type": "stream",
          "text": [
            "Enter the string :TSAI\n",
            "Final ans after shifting: YXFN\n"
          ],
          "name": "stdout"
        }
      ]
    },
    {
      "cell_type": "markdown",
      "metadata": {
        "id": "SAR0fdAkI7wh"
      },
      "source": [
        "# Que 3\n",
        "A list comprehension expression that takes a ~200 word paragraph (write your own paragraph to check), and checks whether it has any of the swear words mentioned in https://github.com/RobertJGabriel/Google-profanity-words/blob/master/list.txt PTS:200"
      ]
    },
    {
      "cell_type": "code",
      "metadata": {
        "id": "WZwIK-2F-1to",
        "outputId": "75f5deb1-3deb-4e9c-ff58-f664e4d8733d",
        "colab": {
          "base_uri": "https://localhost:8080/"
        }
      },
      "source": [
        "text=\"In this tutorial, fcuk we will use the same machine learning pipeline and Flask app that we built and deployed previously. This time we will demonstrate how to deploy a machine learning pipeline as a web app using the Microsoft Azure Web App Service. In order to deploy a machine learning pipeline on Microsoft Azure, we will have to containerize our pipeline in a software called Docker. If you don’t know what does containerize means, no problem — this tutorial is all about that.\"\n",
        "\n",
        "f = open(\"/content/list.txt\", \"r\")\n",
        "word_lst=f.read().split()\n",
        "\n",
        "check = any(item in word_lst for item in text.split(\" \"))\n",
        "print(\"Is there any swear words? Ans: \",check)"
      ],
      "execution_count": null,
      "outputs": [
        {
          "output_type": "stream",
          "text": [
            "Is there any swear words? Ans:  True\n"
          ],
          "name": "stdout"
        }
      ]
    },
    {
      "cell_type": "markdown",
      "metadata": {
        "id": "ZndyEcdKJ78G"
      },
      "source": [
        "# Que 4\n",
        "Using reduce function"
      ]
    },
    {
      "cell_type": "markdown",
      "metadata": {
        "id": "ctjAw7IRKvSU"
      },
      "source": [
        "* Add only even numbers in a list"
      ]
    },
    {
      "cell_type": "code",
      "metadata": {
        "id": "YXLL6j_8FT_E",
        "outputId": "6a8873ea-e848-44f9-f7e9-bac5c53933b8",
        "colab": {
          "base_uri": "https://localhost:8080/"
        }
      },
      "source": [
        "import functools\n",
        "list_1= [int(item) for item in input(\"Enter the list items : \").split()]\n",
        "print (\"The sum of even numbers in the list: \",functools.reduce(lambda a,b : a+b ,list(filter(lambda x: x % 2 == 0, list_1)) )) \n"
      ],
      "execution_count": null,
      "outputs": [
        {
          "output_type": "stream",
          "text": [
            "Enter the list items : 10 20 3 2 5\n",
            "The sum of even numbers in the list:  32\n"
          ],
          "name": "stdout"
        }
      ]
    },
    {
      "cell_type": "markdown",
      "metadata": {
        "id": "F7k4sa-kKzUm"
      },
      "source": [
        "* Find the biggest character in a string (printable ascii characters)\n"
      ]
    },
    {
      "cell_type": "code",
      "metadata": {
        "id": "dkllDZ0EMSwu",
        "outputId": "8c94b6ab-1004-4e5b-eae4-d04014679ebf",
        "colab": {
          "base_uri": "https://localhost:8080/"
        }
      },
      "source": [
        "sample=\"The END is Amazing\"\n",
        "print(\"The maximum char in the string is :\",functools.reduce(lambda a,b : a if ord(a) > ord(b) else b,sample))"
      ],
      "execution_count": null,
      "outputs": [
        {
          "output_type": "stream",
          "text": [
            "The maximum char in the string is : z\n"
          ],
          "name": "stdout"
        }
      ]
    },
    {
      "cell_type": "markdown",
      "metadata": {
        "id": "VPKAIK3oLCav"
      },
      "source": [
        "* Adds every 3rd number in a list\n"
      ]
    },
    {
      "cell_type": "code",
      "metadata": {
        "id": "KIsnOosdOiWp",
        "outputId": "7c69f71c-ac62-4060-9e55-b055c400a41b",
        "colab": {
          "base_uri": "https://localhost:8080/"
        }
      },
      "source": [
        "lst=[7,3,4,5,4,8]\n",
        "print(\"Sum of 3rd number in the list is: \", functools.reduce(lambda a,b : a+b , [lst[i] for i in range(0, len(lst), 3)]))"
      ],
      "execution_count": null,
      "outputs": [
        {
          "output_type": "stream",
          "text": [
            "Sum of 3rd number in the list is:  12\n"
          ],
          "name": "stdout"
        }
      ]
    },
    {
      "cell_type": "markdown",
      "metadata": {
        "id": "7xLyqbmrNcaM"
      },
      "source": [
        "# Que 5 and 6"
      ]
    },
    {
      "cell_type": "markdown",
      "metadata": {
        "id": "BvdRq4pXLmm0"
      },
      "source": [
        "* Using randint, random.choice and list comprehensions, write an expression that generates 15 random KADDAADDDD number plates, where KA is fixed, D stands for a digit, and A stands for Capital alphabets. 10<<DD<<99 & 1000<<DDDD<<9999 PTS:100"
      ]
    },
    {
      "cell_type": "code",
      "metadata": {
        "id": "VVrWHBmGQ9ud",
        "outputId": "fe06c9a5-9401-4d8a-ec5c-063ec3d8de73",
        "colab": {
          "base_uri": "https://localhost:8080/"
        }
      },
      "source": [
        "\n",
        "ans=['KA'+str(random.choice([random.randint(10,99) for x in range(15)]))+random.choice(string.ascii_uppercase)+random.choice(string.ascii_uppercase)+ str(random.choice([random.randint(1000,9999) for x in range(15)])) for _ in range(15)]\n",
        "print(ans)"
      ],
      "execution_count": null,
      "outputs": [
        {
          "output_type": "stream",
          "text": [
            "['KA92AX9705', 'KA77FO6914', 'KA41JQ3853', 'KA98VB7903', 'KA54ZZ5839', 'KA64AW9027', 'KA94YA6552', 'KA20CI3758', 'KA55UQ3014', 'KA51XU5798', 'KA39CF6670', 'KA55BO5661', 'KA19OA5901', 'KA71JF4632', 'KA87GK9752']\n"
          ],
          "name": "stdout"
        }
      ]
    },
    {
      "cell_type": "markdown",
      "metadata": {
        "id": "j4wExroMLs7H"
      },
      "source": [
        "* Write the above again from scratch where KA can be changed to DL, and 1000/9999 ranges can be provided.  PTS:100"
      ]
    },
    {
      "cell_type": "code",
      "metadata": {
        "id": "YI20gbBxSMvl",
        "outputId": "92de2f41-80dc-425c-be32-220bb780effc",
        "colab": {
          "base_uri": "https://localhost:8080/"
        }
      },
      "source": [
        "number_plate=lambda x,y: random.choice(['KA','DL'])+str(random.choice([random.randint(10,99) for x in range(15)]))+random.choice(string.ascii_uppercase)+random.choice(string.ascii_uppercase)+ str(random.choice([random.randint(x,y) for x in range(15)])) #for _ in range(15)\n",
        "x=int(input(\"Enter the min range:\"))\n",
        "y=int(input(\"Enter the max range:\"))\n",
        "print([number_plate(x,y) for x in range(15)])"
      ],
      "execution_count": null,
      "outputs": [
        {
          "output_type": "stream",
          "text": [
            "Enter the min range:100\n",
            "Enter the max range:200\n",
            "['KA24PW101', 'DL10WN88', 'KA96WC42', 'KA17XS17', 'DL48OF120', 'DL19LI89', 'DL39EH69', 'KA22CE48', 'KA75UQ146', 'KA26FW23', 'KA59DV12', 'DL69ZV58', 'KA30NC169', 'KA67FS199', 'DL96FU87']\n"
          ],
          "name": "stdout"
        }
      ]
    }
  ]
}